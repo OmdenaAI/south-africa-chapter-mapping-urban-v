{
 "cells": [
  {
   "cell_type": "code",
   "execution_count": null,
   "metadata": {},
   "outputs": [],
   "source": [
    "import requests, lxml, re, urllib.parse, base64\n",
    "from bs4 import BeautifulSoup\n",
    "from PIL import Image\n",
    "from io import BytesIO"
   ]
  },
  {
   "cell_type": "code",
   "execution_count": null,
   "metadata": {},
   "outputs": [],
   "source": [
    "headers = {\n",
    "    \"User-Agent\":\n",
    "    \"Mozilla/5.0 (Windows NT 10.0; Win64; x64) AppleWebKit/537.36 (KHTML, like Gecko) Chrome/70.0.3538.102 Safari/537.36 Edge/18.19582\"\n",
    "}\n",
    "\n",
    "params = {\n",
    "    \"q\": \"minecraft shareds photo\",\n",
    "    \"sourceid\": \"chrome\",\n",
    "}"
   ]
  },
  {
   "cell_type": "code",
   "execution_count": null,
   "metadata": {},
   "outputs": [],
   "source": [
    "html = requests.get(\"https://www.google.com/search\", params=params, headers=headers)\n",
    "soup = BeautifulSoup(html.text, 'lxml')"
   ]
  },
  {
   "cell_type": "code",
   "execution_count": null,
   "metadata": {},
   "outputs": [],
   "source": [
    "for result in soup.select('div[jsname=dTDiAc]'):\n",
    "    link = f\"https://www.google.com{result.a['href']}\"\n",
    "    being_used_on = result['data-lpage']\n",
    "    print(f'Link: {link}\\nBeing used on: {being_used_on}\\n')"
   ]
  },
  {
   "cell_type": "code",
   "execution_count": null,
   "metadata": {},
   "outputs": [],
   "source": [
    "# finding all script (<script>) tags\n",
    "script_img_tags = soup.find_all('script')"
   ]
  },
  {
   "cell_type": "code",
   "execution_count": null,
   "metadata": {},
   "outputs": [],
   "source": [
    "# https://regex101.com/r/L3IZXe/4\n",
    "img_matches = re.findall(r\"s='data:image/jpeg;base64,(.*?)';\", str(script_img_tags))"
   ]
  },
  {
   "cell_type": "code",
   "execution_count": null,
   "metadata": {},
   "outputs": [],
   "source": [
    "for index, image in enumerate(img_matches):\n",
    "    try:\n",
    "        # https://stackoverflow.com/a/6966225/15164646\n",
    "        final_image = Image.open(BytesIO(base64.b64decode(str(image))))\n",
    "\n",
    "        # https://www.educative.io/edpresso/absolute-vs-relative-path\n",
    "        # https://stackoverflow.com/a/31434485/15164646\n",
    "        final_image.save(f'your/absolute_or_relative/path/inline_image_{index}.jpg', 'JPEG')\n",
    "    except:\n",
    "        pass"
   ]
  },
  {
   "cell_type": "code",
   "execution_count": null,
   "metadata": {},
   "outputs": [],
   "source": [
    "# part of the output:\n",
    "'''\n",
    "Link: https://www.google.com/search?q=minecraft+shaders+photo&tbm=isch&source=iu&ictx=1&fir=1DCWjzl0od3bFM%252Cc4Qd0ZKVFnHrsM%252C_&vet=1&usg=AI4_-kTAvknTGktfEC1K8ciH7Ot7GsAFkA&sa=X&ved=2ahUKEwiAiaDV6_HxAhVBeawKHfbtDCIQ9QF6BAgWEAE#imgrc=1DCWjzl0od3bFM\n",
    "Being used on: https://pixabay.com/illustrations/minecraft-shader-minecraft-wallpaper-1970876/\n",
    "Link: https://www.google.com/search?q=minecraft+shaders+photo&tbm=isch&source=iu&ictx=1&fir=bwVoAE4HTl8GXM%252Cz3y5GvasoN8hFM%252C_&vet=1&usg=AI4_-kRfUHjrz711om99elb_i3GwJuTBnw&sa=X&ved=2ahUKEwiAiaDV6_HxAhVBeawKHfbtDCIQ9QF6BAgVEAE#imgrc=bwVoAE4HTl8GXM\n",
    "Being used on: https://www.pcgamesn.com/minecraft/minecraft-shaders-best-graphics-mods\n",
    "...\n",
    "'''"
   ]
  }
 ],
 "metadata": {
  "kernelspec": {
   "display_name": "Python 3.9.12 ('base')",
   "language": "python",
   "name": "python3"
  },
  "language_info": {
   "name": "python",
   "version": "3.9.12"
  },
  "orig_nbformat": 4,
  "vscode": {
   "interpreter": {
    "hash": "3165825ed7053c8e1afa96bce8518cd8bc26e25fcb10caf600515faea5597791"
   }
  }
 },
 "nbformat": 4,
 "nbformat_minor": 2
}
