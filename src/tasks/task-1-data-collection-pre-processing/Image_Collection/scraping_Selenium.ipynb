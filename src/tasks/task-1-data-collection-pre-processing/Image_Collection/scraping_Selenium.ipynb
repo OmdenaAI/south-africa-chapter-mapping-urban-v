{
 "cells": [
  {
   "cell_type": "markdown",
   "metadata": {},
   "source": [
    "## If you want to use the Selenium code\n",
    "\n",
    "Install selenium package with your command prompt.\n",
    "\n",
    "install the chrome driver for your google chrome version. (you must have google chrome browser)\n",
    "\n",
    "change the url link on the code ( I typed 'crimes in south africa' on the google search bar, and copied the search link)"
   ]
  },
  {
   "cell_type": "code",
   "execution_count": null,
   "metadata": {},
   "outputs": [],
   "source": [
    "from selenium import webdriver\n",
    "from selenium.webdriver.common.by import By\n",
    "import requests\n",
    "import io\n",
    "from PIL import Image\n",
    "import time"
   ]
  },
  {
   "cell_type": "code",
   "execution_count": null,
   "metadata": {},
   "outputs": [],
   "source": [
    "PATH = \"C:\\\\Users\\\\Tim\\\\Desktop\\\\Web Scraping Images\\\\chromedriver.exe\""
   ]
  },
  {
   "cell_type": "code",
   "execution_count": null,
   "metadata": {},
   "outputs": [],
   "source": [
    "wd = webdriver.Chrome(PATH)"
   ]
  },
  {
   "cell_type": "code",
   "execution_count": null,
   "metadata": {},
   "outputs": [],
   "source": [
    "def get_images_from_google(wd, delay, max_images):\n",
    "\tdef scroll_down(wd):\n",
    "\t\twd.execute_script(\"window.scrollTo(0, document.body.scrollHeight);\")\n",
    "\t\ttime.sleep(delay)\n",
    "\n",
    "    # first go to google and type in your search phrase, after you click on search, copy the link,\n",
    "    # and paste it here\n",
    "\turl = \"https://www.google.com/search?q=crimes+in+south+africa&client=opera&hs=1mV&sxsrf=ALiCzsZ-O4kjhnK7VxUj5hFbp9PPOLLY-Q:1669355851460&source=lnms&tbm=isch&sa=X&ved=2ahUKEwiaoZ6U08j7AhUqTaQEHbaBDjEQ_AUoAXoECAEQAw&biw=1600&bih=767&dpr=1\"\n",
    "\twd.get(url)\n",
    "\n",
    "\timage_urls = set()\n",
    "\tskips = 0\n",
    "\n",
    "\twhile len(image_urls) + skips < max_images:\n",
    "\t\tscroll_down(wd)\n",
    "        #right click on the google page, click on inspect element and get the \n",
    "\t\tthumbnails = wd.find_elements(By.CLASS_NAME, \"Q4LuWd\")\n",
    "\n",
    "\t\tfor img in thumbnails[len(image_urls) + skips:max_images]:\n",
    "\t\t\ttry:\n",
    "\t\t\t\timg.click()\n",
    "\t\t\t\ttime.sleep(delay)\n",
    "\t\t\texcept:\n",
    "\t\t\t\tcontinue\n",
    "\n",
    "\t\t\timages = wd.find_elements(By.CLASS_NAME, \"Q4LuWd\")\n",
    "\t\t\tfor image in images:\n",
    "\t\t\t\tif image.get_attribute('src') in image_urls:\n",
    "\t\t\t\t\tmax_images += 1\n",
    "\t\t\t\t\tskips += 1\n",
    "\t\t\t\t\tbreak\n",
    "\n",
    "\t\t\t\tif image.get_attribute('src') and 'http' in image.get_attribute('src'):\n",
    "\t\t\t\t\timage_urls.add(image.get_attribute('src'))\n",
    "\t\t\t\t\tprint(f\"Found {len(image_urls)}\")\n",
    "\n",
    "\treturn image_urls"
   ]
  },
  {
   "cell_type": "code",
   "execution_count": null,
   "metadata": {},
   "outputs": [],
   "source": [
    "def download_image(download_path, url, file_name):\n",
    "\ttry:\n",
    "\t\timage_content = requests.get(url).content\n",
    "\t\timage_file = io.BytesIO(image_content)\n",
    "\t\timage = Image.open(image_file)\n",
    "\t\tfile_path = download_path + file_name\n",
    "\n",
    "\t\twith open(file_path, \"wb\") as f:\n",
    "\t\t\timage.save(f, \"JPEG\")\n",
    "\n",
    "\t\tprint(\"Success\")\n",
    "\texcept Exception as e:\n",
    "\t\tprint('FAILED -', e)"
   ]
  },
  {
   "cell_type": "code",
   "execution_count": null,
   "metadata": {},
   "outputs": [],
   "source": [
    "urls = get_images_from_google(wd, 1, 2)\n",
    "cwd = os.getcwd()\n",
    "IMAGE_FOLDER = 'download'\n",
    "os.makedirs(\n",
    "    name=f'{cwd}/{IMAGE_FOLDER}',\n",
    "    exist_ok=True\n",
    ")\n",
    "for i, url in enumerate(urls):\n",
    "\tdownload_image('download/', url, str(i) + \".jpg\")\n",
    "\n",
    "wd.quit()"
   ]
  }
 ],
 "metadata": {
  "kernelspec": {
   "display_name": "Python 3.9.12 ('base')",
   "language": "python",
   "name": "python3"
  },
  "language_info": {
   "name": "python",
   "version": "3.9.12"
  },
  "orig_nbformat": 4,
  "vscode": {
   "interpreter": {
    "hash": "3165825ed7053c8e1afa96bce8518cd8bc26e25fcb10caf600515faea5597791"
   }
  }
 },
 "nbformat": 4,
 "nbformat_minor": 2
}
