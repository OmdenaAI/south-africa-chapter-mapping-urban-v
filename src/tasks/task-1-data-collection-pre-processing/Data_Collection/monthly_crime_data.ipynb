{
 "cells": [
  {
   "cell_type": "markdown",
   "metadata": {},
   "source": [
    "# Task-1-Data Collection and Preprocessing\n",
    "## Data Collection\n",
    "We managed to collect data from the South African Police Force in yearly format from 2005 and monthly data from 2015.  \n",
    "  \n",
    "We had Zoom meeting and decided to work with the monthly data from 2015."
   ]
  },
  {
   "cell_type": "markdown",
   "metadata": {},
   "source": [
    "## Importing the libraries"
   ]
  },
  {
   "cell_type": "code",
   "execution_count": 1,
   "metadata": {},
   "outputs": [],
   "source": [
    "import pandas as pd\n",
    "from datetime import datetime"
   ]
  },
  {
   "cell_type": "markdown",
   "metadata": {},
   "source": [
    "### Reading in the raw data\n",
    "We will create four dataframes, one for each quarter."
   ]
  },
  {
   "cell_type": "code",
   "execution_count": 2,
   "metadata": {},
   "outputs": [
    {
     "name": "stderr",
     "output_type": "stream",
     "text": [
      "C:\\Users\\kmedr\\AppData\\Local\\Temp\\ipykernel_3796\\2463124231.py:2: DtypeWarning: Columns (50,51,55,56) have mixed types. Specify dtype option on import or set low_memory=False.\n",
      "  df2 = pd.read_csv('../../../data/to_merge/cd_2.csv')\n",
      "C:\\Users\\kmedr\\AppData\\Local\\Temp\\ipykernel_3796\\2463124231.py:4: DtypeWarning: Columns (46,47) have mixed types. Specify dtype option on import or set low_memory=False.\n",
      "  df4 = pd.read_csv('../../../data/to_merge/cd_4.csv')\n"
     ]
    }
   ],
   "source": [
    "df1 = pd.read_csv('../../../data/to_merge/cd_1.csv')\n",
    "df2 = pd.read_csv('../../../data/to_merge/cd_2.csv')\n",
    "df3 = pd.read_csv('../../../data/to_merge/cd_3.csv')\n",
    "df4 = pd.read_csv('../../../data/to_merge/cd_4.csv')"
   ]
  },
  {
   "cell_type": "markdown",
   "metadata": {},
   "source": [
    "### Checking shape of raw data"
   ]
  },
  {
   "cell_type": "code",
   "execution_count": 3,
   "metadata": {},
   "outputs": [
    {
     "data": {
      "text/plain": [
       "((57794, 48), (50952, 57), (57794, 51), (50996, 48))"
      ]
     },
     "execution_count": 3,
     "metadata": {},
     "output_type": "execute_result"
    }
   ],
   "source": [
    "df1.shape, df2.shape, df3.shape, df4.shape"
   ]
  },
  {
   "cell_type": "markdown",
   "metadata": {},
   "source": [
    "Lets have a look at the column names"
   ]
  },
  {
   "cell_type": "code",
   "execution_count": 4,
   "metadata": {},
   "outputs": [
    {
     "data": {
      "text/plain": [
       "Index(['prov Crime_Category', 'Crime_Category station Per Province',\n",
       "       'Crime_Category station Per Province.1',\n",
       "       'Crime_Category station Per Province.2',\n",
       "       'Provincial Station position prov Crime_Category',\n",
       "       'National Station position Crime_Category', 'station Crime_Category',\n",
       "       'prov', 'Per Province', 'cluster', 'District', 'station',\n",
       "       'Table 1 Crime Category', 'Crime_Category', 'Jan-14', 'Feb-14',\n",
       "       'Mar-14', 'Jan-15', 'Feb-15', 'Mar-15', 'Jan-16', 'Feb-16', 'Mar-16',\n",
       "       'Jan-17', 'Feb-17', 'Mar-17', 'Jan-18', 'Feb-18', 'Mar-18', 'Jan-19',\n",
       "       'Feb-19', 'Mar-19', 'Jan-20', 'Feb-20', 'Mar-20', 'Jan-21', 'Feb-21',\n",
       "       'Mar-21', 'Jan-22', 'Feb-22', 'Mar-22', 'January to March  2018',\n",
       "       'January to March  2019', 'January to March  2020',\n",
       "       'January to March  2021', 'January to March  2022',\n",
       "       'National Station position', 'Provincial Station position'],\n",
       "      dtype='object')"
      ]
     },
     "execution_count": 4,
     "metadata": {},
     "output_type": "execute_result"
    }
   ],
   "source": [
    "df1.columns"
   ]
  },
  {
   "cell_type": "markdown",
   "metadata": {},
   "source": [
    "We only need to keep 'prov', 'cluster', 'station', 'Crime_Category', and months.  \n",
    "  \n",
    "Lets create some lists."
   ]
  },
  {
   "cell_type": "code",
   "execution_count": 5,
   "metadata": {},
   "outputs": [],
   "source": [
    "cols1 = ['prov', 'cluster', 'station', 'Crime_Category', 'Jan-16', 'Feb-16',\n",
    "        'Mar-16', 'Jan-17', 'Feb-17', 'Mar-17', 'Jan-18', 'Feb-18',\n",
    "        'Mar-18', 'Jan-19', 'Feb-19', 'Mar-19', 'Jan-20', 'Feb-20',\n",
    "        'Mar-20', 'Jan-21', 'Feb-21', 'Mar-21']\n",
    "\n",
    "cols2 = ['prov', 'cluster', 'station', 'Crime_Category', 'Apr-16', 'May-16',\n",
    "         'Jun-16', 'Apr-17', 'May-17', 'Jun-17', 'Apr-18',\n",
    "         'May-18', 'Jun-18', 'Apr-19', 'May-19', 'Jun-19', 'Apr-20', 'May-20',\n",
    "         'Jun-20', 'Apr-21', 'May-21', 'Jun-21']\n",
    "\n",
    "cols3 = ['prov', 'cluster', 'station', 'Crime_Category', 'Jul-16', 'Aug-16',\n",
    "        'Sep-16', 'Jul-17', 'Aug-17', 'Sep-17', 'Jul-18',\n",
    "        'Aug-18', 'Sep-18', 'Jul-19', 'Aug-19', 'Sep-19', 'Jul-20', 'Aug-20',\n",
    "        'Sep-20', 'Jul-21', 'Aug-21', 'Sep-21']\n",
    "\n",
    "cols4 = ['prov', 'cluster', 'station', 'Crime_Category', 'Oct-16', 'Nov-16',\n",
    "       'Dec-16', 'Oct-17', 'Nov-17', 'Dec-17', 'Oct-18', 'Nov-18', 'Dec-18',\n",
    "       'Oct-19', 'Nov-19', 'Dec-19', 'Oct-20', 'Nov-20', 'Dec-20', 'Oct-21',\n",
    "       'Nov-21', 'Dec-21']"
   ]
  },
  {
   "cell_type": "markdown",
   "metadata": {},
   "source": [
    "### Transpose and Reduce\n",
    "We can reduce the number of columns and transpose the monthly data."
   ]
  },
  {
   "cell_type": "code",
   "execution_count": 6,
   "metadata": {},
   "outputs": [
    {
     "name": "stdout",
     "output_type": "stream",
     "text": [
      "(917268, 6) (917136, 6) (917400, 6) (917268, 6)\n"
     ]
    }
   ],
   "source": [
    "df1 = df1[cols1].set_index(['station', 'prov', 'cluster', 'Crime_Category']).stack().reset_index()\n",
    "df2 = df2[cols2].set_index(['station', 'prov', 'cluster', 'Crime_Category']).stack().reset_index()\n",
    "df3 = df3[cols3].set_index(['station', 'prov', 'cluster', 'Crime_Category']).stack().reset_index()\n",
    "df4 = df4[cols4].set_index(['station', 'prov', 'cluster', 'Crime_Category']).stack().reset_index()\n",
    "print(df1.shape, df2.shape, df3.shape, df4.shape)"
   ]
  },
  {
   "cell_type": "markdown",
   "metadata": {},
   "source": [
    "And rename columns"
   ]
  },
  {
   "cell_type": "code",
   "execution_count": 7,
   "metadata": {},
   "outputs": [],
   "source": [
    "df1.rename(columns = {'prov':'province', 'cluster':'district', 'Crime_Category':'crime_category', 'level_4':'date', 0:'number_of_crimes'}, inplace = True)\n",
    "df2.rename(columns = {'prov':'province', 'cluster':'district', 'Crime_Category':'crime_category', 'level_4':'date', 0:'number_of_crimes'}, inplace = True)\n",
    "df3.rename(columns = {'prov':'province', 'cluster':'district', 'Crime_Category':'crime_category', 'level_4':'date', 0:'number_of_crimes'}, inplace = True)\n",
    "df4.rename(columns = {'prov':'province', 'cluster':'district', 'Crime_Category':'crime_category', 'level_4':'date', 0:'number_of_crimes'}, inplace = True)"
   ]
  },
  {
   "cell_type": "markdown",
   "metadata": {},
   "source": [
    "### Remove Null values"
   ]
  },
  {
   "cell_type": "code",
   "execution_count": 8,
   "metadata": {},
   "outputs": [
    {
     "name": "stdout",
     "output_type": "stream",
     "text": [
      "(916344, 6) (916344, 6) (916344, 6) (916344, 6)\n"
     ]
    }
   ],
   "source": [
    "df1.dropna(how='any', axis=0, inplace=True)\n",
    "df2.dropna(how='any', axis=0, inplace=True)\n",
    "df3.dropna(how='any', axis=0, inplace=True)\n",
    "df4.dropna(how='any', axis=0, inplace=True)\n",
    "print(df1.shape, df2.shape, df3.shape, df4.shape)"
   ]
  },
  {
   "cell_type": "markdown",
   "metadata": {},
   "source": [
    "### Join the datframes into one"
   ]
  },
  {
   "cell_type": "code",
   "execution_count": 9,
   "metadata": {},
   "outputs": [
    {
     "data": {
      "text/plain": [
       "(3665376, 6)"
      ]
     },
     "execution_count": 9,
     "metadata": {},
     "output_type": "execute_result"
    }
   ],
   "source": [
    "crimes_date = pd.concat([df1, df2, df3, df4], axis=0)\n",
    "crimes_date.shape"
   ]
  },
  {
   "cell_type": "markdown",
   "metadata": {},
   "source": [
    "Lets take a look at what we have."
   ]
  },
  {
   "cell_type": "code",
   "execution_count": 10,
   "metadata": {},
   "outputs": [
    {
     "data": {
      "text/html": [
       "<div>\n",
       "<style scoped>\n",
       "    .dataframe tbody tr th:only-of-type {\n",
       "        vertical-align: middle;\n",
       "    }\n",
       "\n",
       "    .dataframe tbody tr th {\n",
       "        vertical-align: top;\n",
       "    }\n",
       "\n",
       "    .dataframe thead th {\n",
       "        text-align: right;\n",
       "    }\n",
       "</style>\n",
       "<table border=\"1\" class=\"dataframe\">\n",
       "  <thead>\n",
       "    <tr style=\"text-align: right;\">\n",
       "      <th></th>\n",
       "      <th>station</th>\n",
       "      <th>province</th>\n",
       "      <th>district</th>\n",
       "      <th>crime_category</th>\n",
       "      <th>date</th>\n",
       "      <th>number_of_crimes</th>\n",
       "    </tr>\n",
       "  </thead>\n",
       "  <tbody>\n",
       "    <tr>\n",
       "      <th>0</th>\n",
       "      <td>EAST LONDON</td>\n",
       "      <td>EASTERN CAPE</td>\n",
       "      <td>EAST LONDON CC</td>\n",
       "      <td>17 Community Reported Serious Crime</td>\n",
       "      <td>Jan-16</td>\n",
       "      <td>470.0</td>\n",
       "    </tr>\n",
       "    <tr>\n",
       "      <th>1</th>\n",
       "      <td>EAST LONDON</td>\n",
       "      <td>EASTERN CAPE</td>\n",
       "      <td>EAST LONDON CC</td>\n",
       "      <td>17 Community Reported Serious Crime</td>\n",
       "      <td>Feb-16</td>\n",
       "      <td>411.0</td>\n",
       "    </tr>\n",
       "    <tr>\n",
       "      <th>2</th>\n",
       "      <td>EAST LONDON</td>\n",
       "      <td>EASTERN CAPE</td>\n",
       "      <td>EAST LONDON CC</td>\n",
       "      <td>17 Community Reported Serious Crime</td>\n",
       "      <td>Mar-16</td>\n",
       "      <td>477.0</td>\n",
       "    </tr>\n",
       "    <tr>\n",
       "      <th>3</th>\n",
       "      <td>EAST LONDON</td>\n",
       "      <td>EASTERN CAPE</td>\n",
       "      <td>EAST LONDON CC</td>\n",
       "      <td>17 Community Reported Serious Crime</td>\n",
       "      <td>Jan-17</td>\n",
       "      <td>476.0</td>\n",
       "    </tr>\n",
       "    <tr>\n",
       "      <th>4</th>\n",
       "      <td>EAST LONDON</td>\n",
       "      <td>EASTERN CAPE</td>\n",
       "      <td>EAST LONDON CC</td>\n",
       "      <td>17 Community Reported Serious Crime</td>\n",
       "      <td>Feb-17</td>\n",
       "      <td>427.0</td>\n",
       "    </tr>\n",
       "    <tr>\n",
       "      <th>...</th>\n",
       "      <td>...</td>\n",
       "      <td>...</td>\n",
       "      <td>...</td>\n",
       "      <td>...</td>\n",
       "      <td>...</td>\n",
       "      <td>...</td>\n",
       "    </tr>\n",
       "    <tr>\n",
       "      <th>917131</th>\n",
       "      <td>HOPEFIELD</td>\n",
       "      <td>WESTERN CAPE</td>\n",
       "      <td>VREDENBURG CC</td>\n",
       "      <td>Truck hijacking</td>\n",
       "      <td>Nov-20</td>\n",
       "      <td>0.0</td>\n",
       "    </tr>\n",
       "    <tr>\n",
       "      <th>917132</th>\n",
       "      <td>HOPEFIELD</td>\n",
       "      <td>WESTERN CAPE</td>\n",
       "      <td>VREDENBURG CC</td>\n",
       "      <td>Truck hijacking</td>\n",
       "      <td>Dec-20</td>\n",
       "      <td>0.0</td>\n",
       "    </tr>\n",
       "    <tr>\n",
       "      <th>917133</th>\n",
       "      <td>HOPEFIELD</td>\n",
       "      <td>WESTERN CAPE</td>\n",
       "      <td>VREDENBURG CC</td>\n",
       "      <td>Truck hijacking</td>\n",
       "      <td>Oct-21</td>\n",
       "      <td>0.0</td>\n",
       "    </tr>\n",
       "    <tr>\n",
       "      <th>917134</th>\n",
       "      <td>HOPEFIELD</td>\n",
       "      <td>WESTERN CAPE</td>\n",
       "      <td>VREDENBURG CC</td>\n",
       "      <td>Truck hijacking</td>\n",
       "      <td>Nov-21</td>\n",
       "      <td>0.0</td>\n",
       "    </tr>\n",
       "    <tr>\n",
       "      <th>917135</th>\n",
       "      <td>HOPEFIELD</td>\n",
       "      <td>WESTERN CAPE</td>\n",
       "      <td>VREDENBURG CC</td>\n",
       "      <td>Truck hijacking</td>\n",
       "      <td>Dec-21</td>\n",
       "      <td>0.0</td>\n",
       "    </tr>\n",
       "  </tbody>\n",
       "</table>\n",
       "<p>3665376 rows × 6 columns</p>\n",
       "</div>"
      ],
      "text/plain": [
       "            station      province        district  \\\n",
       "0       EAST LONDON  EASTERN CAPE  EAST LONDON CC   \n",
       "1       EAST LONDON  EASTERN CAPE  EAST LONDON CC   \n",
       "2       EAST LONDON  EASTERN CAPE  EAST LONDON CC   \n",
       "3       EAST LONDON  EASTERN CAPE  EAST LONDON CC   \n",
       "4       EAST LONDON  EASTERN CAPE  EAST LONDON CC   \n",
       "...             ...           ...             ...   \n",
       "917131    HOPEFIELD  WESTERN CAPE   VREDENBURG CC   \n",
       "917132    HOPEFIELD  WESTERN CAPE   VREDENBURG CC   \n",
       "917133    HOPEFIELD  WESTERN CAPE   VREDENBURG CC   \n",
       "917134    HOPEFIELD  WESTERN CAPE   VREDENBURG CC   \n",
       "917135    HOPEFIELD  WESTERN CAPE   VREDENBURG CC   \n",
       "\n",
       "                             crime_category    date  number_of_crimes  \n",
       "0       17 Community Reported Serious Crime  Jan-16             470.0  \n",
       "1       17 Community Reported Serious Crime  Feb-16             411.0  \n",
       "2       17 Community Reported Serious Crime  Mar-16             477.0  \n",
       "3       17 Community Reported Serious Crime  Jan-17             476.0  \n",
       "4       17 Community Reported Serious Crime  Feb-17             427.0  \n",
       "...                                     ...     ...               ...  \n",
       "917131                      Truck hijacking  Nov-20               0.0  \n",
       "917132                      Truck hijacking  Dec-20               0.0  \n",
       "917133                      Truck hijacking  Oct-21               0.0  \n",
       "917134                      Truck hijacking  Nov-21               0.0  \n",
       "917135                      Truck hijacking  Dec-21               0.0  \n",
       "\n",
       "[3665376 rows x 6 columns]"
      ]
     },
     "execution_count": 10,
     "metadata": {},
     "output_type": "execute_result"
    }
   ],
   "source": [
    "crimes_date"
   ]
  },
  {
   "cell_type": "markdown",
   "metadata": {},
   "source": [
    "Lets tidy up the values."
   ]
  },
  {
   "cell_type": "code",
   "execution_count": 11,
   "metadata": {},
   "outputs": [],
   "source": [
    "crimes_date['station'], crimes_date['province'], crimes_date['district'] = crimes_date['station'].str.lower(), crimes_date['province'].str.title(), crimes_date['district'].str.title()"
   ]
  },
  {
   "cell_type": "markdown",
   "metadata": {},
   "source": [
    "And take a look at what we have."
   ]
  },
  {
   "cell_type": "code",
   "execution_count": 12,
   "metadata": {},
   "outputs": [
    {
     "data": {
      "text/html": [
       "<div>\n",
       "<style scoped>\n",
       "    .dataframe tbody tr th:only-of-type {\n",
       "        vertical-align: middle;\n",
       "    }\n",
       "\n",
       "    .dataframe tbody tr th {\n",
       "        vertical-align: top;\n",
       "    }\n",
       "\n",
       "    .dataframe thead th {\n",
       "        text-align: right;\n",
       "    }\n",
       "</style>\n",
       "<table border=\"1\" class=\"dataframe\">\n",
       "  <thead>\n",
       "    <tr style=\"text-align: right;\">\n",
       "      <th></th>\n",
       "      <th>station</th>\n",
       "      <th>province</th>\n",
       "      <th>district</th>\n",
       "      <th>crime_category</th>\n",
       "      <th>date</th>\n",
       "      <th>number_of_crimes</th>\n",
       "    </tr>\n",
       "  </thead>\n",
       "  <tbody>\n",
       "    <tr>\n",
       "      <th>0</th>\n",
       "      <td>east london</td>\n",
       "      <td>Eastern Cape</td>\n",
       "      <td>East London Cc</td>\n",
       "      <td>17 Community Reported Serious Crime</td>\n",
       "      <td>Jan-16</td>\n",
       "      <td>470.0</td>\n",
       "    </tr>\n",
       "  </tbody>\n",
       "</table>\n",
       "</div>"
      ],
      "text/plain": [
       "       station      province        district  \\\n",
       "0  east london  Eastern Cape  East London Cc   \n",
       "\n",
       "                        crime_category    date  number_of_crimes  \n",
       "0  17 Community Reported Serious Crime  Jan-16             470.0  "
      ]
     },
     "execution_count": 12,
     "metadata": {},
     "output_type": "execute_result"
    }
   ],
   "source": [
    "crimes_date.head(1)"
   ]
  },
  {
   "cell_type": "markdown",
   "metadata": {},
   "source": [
    "Fix spelling of 'bholothwa'"
   ]
  },
  {
   "cell_type": "code",
   "execution_count": 13,
   "metadata": {},
   "outputs": [],
   "source": [
    "crimes_date.loc[crimes_date['station'] == 'bholothwa', 'station'] = 'bholo'"
   ]
  },
  {
   "cell_type": "markdown",
   "metadata": {},
   "source": [
    "### Load City Coordinates"
   ]
  },
  {
   "cell_type": "code",
   "execution_count": 14,
   "metadata": {},
   "outputs": [
    {
     "data": {
      "text/html": [
       "<div>\n",
       "<style scoped>\n",
       "    .dataframe tbody tr th:only-of-type {\n",
       "        vertical-align: middle;\n",
       "    }\n",
       "\n",
       "    .dataframe tbody tr th {\n",
       "        vertical-align: top;\n",
       "    }\n",
       "\n",
       "    .dataframe thead th {\n",
       "        text-align: right;\n",
       "    }\n",
       "</style>\n",
       "<table border=\"1\" class=\"dataframe\">\n",
       "  <thead>\n",
       "    <tr style=\"text-align: right;\">\n",
       "      <th></th>\n",
       "      <th>station</th>\n",
       "      <th>latitude</th>\n",
       "      <th>longitude</th>\n",
       "    </tr>\n",
       "  </thead>\n",
       "  <tbody>\n",
       "    <tr>\n",
       "      <th>0</th>\n",
       "      <td>aberdeen</td>\n",
       "      <td>24.06098</td>\n",
       "      <td>-32.47634</td>\n",
       "    </tr>\n",
       "    <tr>\n",
       "      <th>1</th>\n",
       "      <td>acornhoek</td>\n",
       "      <td>31.04835</td>\n",
       "      <td>-24.59710</td>\n",
       "    </tr>\n",
       "    <tr>\n",
       "      <th>2</th>\n",
       "      <td>actonville</td>\n",
       "      <td>28.29975</td>\n",
       "      <td>-26.21198</td>\n",
       "    </tr>\n",
       "    <tr>\n",
       "      <th>3</th>\n",
       "      <td>addo</td>\n",
       "      <td>25.69029</td>\n",
       "      <td>-33.54769</td>\n",
       "    </tr>\n",
       "    <tr>\n",
       "      <th>4</th>\n",
       "      <td>adelaide</td>\n",
       "      <td>26.29255</td>\n",
       "      <td>-32.70725</td>\n",
       "    </tr>\n",
       "    <tr>\n",
       "      <th>...</th>\n",
       "      <td>...</td>\n",
       "      <td>...</td>\n",
       "      <td>...</td>\n",
       "    </tr>\n",
       "    <tr>\n",
       "      <th>1152</th>\n",
       "      <td>zebediela</td>\n",
       "      <td>29.24406</td>\n",
       "      <td>-24.29829</td>\n",
       "    </tr>\n",
       "    <tr>\n",
       "      <th>1153</th>\n",
       "      <td>zeerust</td>\n",
       "      <td>26.07897</td>\n",
       "      <td>-25.53974</td>\n",
       "    </tr>\n",
       "    <tr>\n",
       "      <th>1154</th>\n",
       "      <td>zele</td>\n",
       "      <td>27.37591</td>\n",
       "      <td>-32.77056</td>\n",
       "    </tr>\n",
       "    <tr>\n",
       "      <th>1155</th>\n",
       "      <td>zonkizizwe</td>\n",
       "      <td>28.17933</td>\n",
       "      <td>-26.40597</td>\n",
       "    </tr>\n",
       "    <tr>\n",
       "      <th>1156</th>\n",
       "      <td>zwelitsha</td>\n",
       "      <td>27.42121</td>\n",
       "      <td>-32.91425</td>\n",
       "    </tr>\n",
       "  </tbody>\n",
       "</table>\n",
       "<p>1157 rows × 3 columns</p>\n",
       "</div>"
      ],
      "text/plain": [
       "         station  latitude  longitude\n",
       "0       aberdeen  24.06098  -32.47634\n",
       "1      acornhoek  31.04835  -24.59710\n",
       "2     actonville  28.29975  -26.21198\n",
       "3           addo  25.69029  -33.54769\n",
       "4       adelaide  26.29255  -32.70725\n",
       "...          ...       ...        ...\n",
       "1152   zebediela  29.24406  -24.29829\n",
       "1153     zeerust  26.07897  -25.53974\n",
       "1154        zele  27.37591  -32.77056\n",
       "1155  zonkizizwe  28.17933  -26.40597\n",
       "1156   zwelitsha  27.42121  -32.91425\n",
       "\n",
       "[1157 rows x 3 columns]"
      ]
     },
     "execution_count": 14,
     "metadata": {},
     "output_type": "execute_result"
    }
   ],
   "source": [
    "cities = pd.read_csv('../../../data/stations.csv', encoding = \"ISO-8859-1\")\n",
    "cities"
   ]
  },
  {
   "cell_type": "code",
   "execution_count": 15,
   "metadata": {},
   "outputs": [
    {
     "data": {
      "text/plain": [
       "1157"
      ]
     },
     "execution_count": 15,
     "metadata": {},
     "output_type": "execute_result"
    }
   ],
   "source": [
    "len(cities['station'].unique())"
   ]
  },
  {
   "cell_type": "markdown",
   "metadata": {},
   "source": [
    "### Merge the Two Dataframes"
   ]
  },
  {
   "cell_type": "code",
   "execution_count": 16,
   "metadata": {},
   "outputs": [
    {
     "data": {
      "text/html": [
       "<div>\n",
       "<style scoped>\n",
       "    .dataframe tbody tr th:only-of-type {\n",
       "        vertical-align: middle;\n",
       "    }\n",
       "\n",
       "    .dataframe tbody tr th {\n",
       "        vertical-align: top;\n",
       "    }\n",
       "\n",
       "    .dataframe thead th {\n",
       "        text-align: right;\n",
       "    }\n",
       "</style>\n",
       "<table border=\"1\" class=\"dataframe\">\n",
       "  <thead>\n",
       "    <tr style=\"text-align: right;\">\n",
       "      <th></th>\n",
       "      <th>station</th>\n",
       "      <th>province</th>\n",
       "      <th>district</th>\n",
       "      <th>crime_category</th>\n",
       "      <th>date</th>\n",
       "      <th>number_of_crimes</th>\n",
       "      <th>latitude</th>\n",
       "      <th>longitude</th>\n",
       "    </tr>\n",
       "  </thead>\n",
       "  <tbody>\n",
       "    <tr>\n",
       "      <th>0</th>\n",
       "      <td>east london</td>\n",
       "      <td>Eastern Cape</td>\n",
       "      <td>East London Cc</td>\n",
       "      <td>17 Community Reported Serious Crime</td>\n",
       "      <td>Jan-16</td>\n",
       "      <td>470.0</td>\n",
       "      <td>27.90288</td>\n",
       "      <td>-33.02058</td>\n",
       "    </tr>\n",
       "    <tr>\n",
       "      <th>1</th>\n",
       "      <td>east london</td>\n",
       "      <td>Eastern Cape</td>\n",
       "      <td>East London Cc</td>\n",
       "      <td>17 Community Reported Serious Crime</td>\n",
       "      <td>Feb-16</td>\n",
       "      <td>411.0</td>\n",
       "      <td>27.90288</td>\n",
       "      <td>-33.02058</td>\n",
       "    </tr>\n",
       "    <tr>\n",
       "      <th>2</th>\n",
       "      <td>east london</td>\n",
       "      <td>Eastern Cape</td>\n",
       "      <td>East London Cc</td>\n",
       "      <td>17 Community Reported Serious Crime</td>\n",
       "      <td>Mar-16</td>\n",
       "      <td>477.0</td>\n",
       "      <td>27.90288</td>\n",
       "      <td>-33.02058</td>\n",
       "    </tr>\n",
       "    <tr>\n",
       "      <th>3</th>\n",
       "      <td>east london</td>\n",
       "      <td>Eastern Cape</td>\n",
       "      <td>East London Cc</td>\n",
       "      <td>17 Community Reported Serious Crime</td>\n",
       "      <td>Jan-17</td>\n",
       "      <td>476.0</td>\n",
       "      <td>27.90288</td>\n",
       "      <td>-33.02058</td>\n",
       "    </tr>\n",
       "    <tr>\n",
       "      <th>4</th>\n",
       "      <td>east london</td>\n",
       "      <td>Eastern Cape</td>\n",
       "      <td>East London Cc</td>\n",
       "      <td>17 Community Reported Serious Crime</td>\n",
       "      <td>Feb-17</td>\n",
       "      <td>427.0</td>\n",
       "      <td>27.90288</td>\n",
       "      <td>-33.02058</td>\n",
       "    </tr>\n",
       "    <tr>\n",
       "      <th>...</th>\n",
       "      <td>...</td>\n",
       "      <td>...</td>\n",
       "      <td>...</td>\n",
       "      <td>...</td>\n",
       "      <td>...</td>\n",
       "      <td>...</td>\n",
       "      <td>...</td>\n",
       "      <td>...</td>\n",
       "    </tr>\n",
       "    <tr>\n",
       "      <th>3665371</th>\n",
       "      <td>protea glen</td>\n",
       "      <td>Gauteng</td>\n",
       "      <td>Soweto West Cc</td>\n",
       "      <td>Truck hijacking</td>\n",
       "      <td>Nov-20</td>\n",
       "      <td>0.0</td>\n",
       "      <td>27.83896</td>\n",
       "      <td>-26.27697</td>\n",
       "    </tr>\n",
       "    <tr>\n",
       "      <th>3665372</th>\n",
       "      <td>protea glen</td>\n",
       "      <td>Gauteng</td>\n",
       "      <td>Soweto West Cc</td>\n",
       "      <td>Truck hijacking</td>\n",
       "      <td>Dec-20</td>\n",
       "      <td>0.0</td>\n",
       "      <td>27.83896</td>\n",
       "      <td>-26.27697</td>\n",
       "    </tr>\n",
       "    <tr>\n",
       "      <th>3665373</th>\n",
       "      <td>protea glen</td>\n",
       "      <td>Gauteng</td>\n",
       "      <td>Soweto West Cc</td>\n",
       "      <td>Truck hijacking</td>\n",
       "      <td>Oct-21</td>\n",
       "      <td>0.0</td>\n",
       "      <td>27.83896</td>\n",
       "      <td>-26.27697</td>\n",
       "    </tr>\n",
       "    <tr>\n",
       "      <th>3665374</th>\n",
       "      <td>protea glen</td>\n",
       "      <td>Gauteng</td>\n",
       "      <td>Soweto West Cc</td>\n",
       "      <td>Truck hijacking</td>\n",
       "      <td>Nov-21</td>\n",
       "      <td>0.0</td>\n",
       "      <td>27.83896</td>\n",
       "      <td>-26.27697</td>\n",
       "    </tr>\n",
       "    <tr>\n",
       "      <th>3665375</th>\n",
       "      <td>protea glen</td>\n",
       "      <td>Gauteng</td>\n",
       "      <td>Soweto West Cc</td>\n",
       "      <td>Truck hijacking</td>\n",
       "      <td>Dec-21</td>\n",
       "      <td>0.0</td>\n",
       "      <td>27.83896</td>\n",
       "      <td>-26.27697</td>\n",
       "    </tr>\n",
       "  </tbody>\n",
       "</table>\n",
       "<p>3665376 rows × 8 columns</p>\n",
       "</div>"
      ],
      "text/plain": [
       "             station      province        district  \\\n",
       "0        east london  Eastern Cape  East London Cc   \n",
       "1        east london  Eastern Cape  East London Cc   \n",
       "2        east london  Eastern Cape  East London Cc   \n",
       "3        east london  Eastern Cape  East London Cc   \n",
       "4        east london  Eastern Cape  East London Cc   \n",
       "...              ...           ...             ...   \n",
       "3665371  protea glen       Gauteng  Soweto West Cc   \n",
       "3665372  protea glen       Gauteng  Soweto West Cc   \n",
       "3665373  protea glen       Gauteng  Soweto West Cc   \n",
       "3665374  protea glen       Gauteng  Soweto West Cc   \n",
       "3665375  protea glen       Gauteng  Soweto West Cc   \n",
       "\n",
       "                              crime_category    date  number_of_crimes  \\\n",
       "0        17 Community Reported Serious Crime  Jan-16             470.0   \n",
       "1        17 Community Reported Serious Crime  Feb-16             411.0   \n",
       "2        17 Community Reported Serious Crime  Mar-16             477.0   \n",
       "3        17 Community Reported Serious Crime  Jan-17             476.0   \n",
       "4        17 Community Reported Serious Crime  Feb-17             427.0   \n",
       "...                                      ...     ...               ...   \n",
       "3665371                      Truck hijacking  Nov-20               0.0   \n",
       "3665372                      Truck hijacking  Dec-20               0.0   \n",
       "3665373                      Truck hijacking  Oct-21               0.0   \n",
       "3665374                      Truck hijacking  Nov-21               0.0   \n",
       "3665375                      Truck hijacking  Dec-21               0.0   \n",
       "\n",
       "         latitude  longitude  \n",
       "0        27.90288  -33.02058  \n",
       "1        27.90288  -33.02058  \n",
       "2        27.90288  -33.02058  \n",
       "3        27.90288  -33.02058  \n",
       "4        27.90288  -33.02058  \n",
       "...           ...        ...  \n",
       "3665371  27.83896  -26.27697  \n",
       "3665372  27.83896  -26.27697  \n",
       "3665373  27.83896  -26.27697  \n",
       "3665374  27.83896  -26.27697  \n",
       "3665375  27.83896  -26.27697  \n",
       "\n",
       "[3665376 rows x 8 columns]"
      ]
     },
     "execution_count": 16,
     "metadata": {},
     "output_type": "execute_result"
    }
   ],
   "source": [
    "crime_data_2016_21 = pd.merge(crimes_date, cities, on=['station'], how='inner')\n",
    "crime_data_2016_21"
   ]
  },
  {
   "cell_type": "markdown",
   "metadata": {},
   "source": [
    "Lets convert the 'number_of_crimes' column to int."
   ]
  },
  {
   "cell_type": "code",
   "execution_count": 17,
   "metadata": {},
   "outputs": [],
   "source": [
    "crime_data_2016_21['number_of_crimes'] = crime_data_2016_21['number_of_crimes'].fillna(0).astype(int)"
   ]
  },
  {
   "cell_type": "markdown",
   "metadata": {},
   "source": [
    "Lets check our data types"
   ]
  },
  {
   "cell_type": "code",
   "execution_count": 18,
   "metadata": {},
   "outputs": [
    {
     "data": {
      "text/plain": [
       "station              object\n",
       "province             object\n",
       "district             object\n",
       "crime_category       object\n",
       "date                 object\n",
       "number_of_crimes      int32\n",
       "latitude            float64\n",
       "longitude           float64\n",
       "dtype: object"
      ]
     },
     "execution_count": 18,
     "metadata": {},
     "output_type": "execute_result"
    }
   ],
   "source": [
    "crime_data_2016_21.dtypes"
   ]
  },
  {
   "cell_type": "markdown",
   "metadata": {},
   "source": [
    "### Export Data to .csv and .parquet"
   ]
  },
  {
   "cell_type": "code",
   "execution_count": 19,
   "metadata": {},
   "outputs": [],
   "source": [
    "crime_data_2016_21.to_csv('crime_data_2016_21.csv')\n",
    "crime_data_2016_21.to_parquet('crime_data_2016_21.parquet', compression='gzip')"
   ]
  },
  {
   "cell_type": "markdown",
   "metadata": {},
   "source": [
    "Lets split our full set of data into three separate datasets by year of crime.  \n",
    "  \n",
    "First we will create lists of the years."
   ]
  },
  {
   "cell_type": "code",
   "execution_count": 20,
   "metadata": {},
   "outputs": [
    {
     "data": {
      "text/plain": [
       "array(['Jan-16', 'Feb-16', 'Mar-16', 'Jan-17', 'Feb-17', 'Mar-17',\n",
       "       'Jan-18', 'Feb-18', 'Mar-18', 'Jan-19', 'Feb-19', 'Mar-19',\n",
       "       'Jan-20', 'Feb-20', 'Mar-20', 'Jan-21', 'Feb-21', 'Mar-21',\n",
       "       'Apr-16', 'May-16', 'Jun-16', 'Apr-17', 'May-17', 'Jun-17',\n",
       "       'Apr-18', 'May-18', 'Jun-18', 'Apr-19', 'May-19', 'Jun-19',\n",
       "       'Apr-20', 'May-20', 'Jun-20', 'Apr-21', 'May-21', 'Jun-21',\n",
       "       'Jul-16', 'Aug-16', 'Sep-16', 'Jul-17', 'Aug-17', 'Sep-17',\n",
       "       'Jul-18', 'Aug-18', 'Sep-18', 'Jul-19', 'Aug-19', 'Sep-19',\n",
       "       'Jul-20', 'Aug-20', 'Sep-20', 'Jul-21', 'Aug-21', 'Sep-21',\n",
       "       'Oct-16', 'Nov-16', 'Dec-16', 'Oct-17', 'Nov-17', 'Dec-17',\n",
       "       'Oct-18', 'Nov-18', 'Dec-18', 'Oct-19', 'Nov-19', 'Dec-19',\n",
       "       'Oct-20', 'Nov-20', 'Dec-20', 'Oct-21', 'Nov-21', 'Dec-21'],\n",
       "      dtype=object)"
      ]
     },
     "execution_count": 20,
     "metadata": {},
     "output_type": "execute_result"
    }
   ],
   "source": [
    "crime_data_2016_21['date'].unique()"
   ]
  },
  {
   "cell_type": "code",
   "execution_count": 29,
   "metadata": {},
   "outputs": [],
   "source": [
    "one = [\n",
    "    'Jan-16', 'Feb-16', 'Mar-16', 'Apr-16', 'May-16', 'Jun-16',\n",
    "    'Jul-16', 'Aug-16', 'Sep-16', 'Oct-16', 'Nov-16', 'Dec-16',\n",
    "    'Jan-17', 'Feb-17', 'Mar-17', 'Apr-17', 'May-17', 'Jun-17',\n",
    "    'Jul-17', 'Aug-17', 'Sep-17', 'Oct-17', 'Nov-17', 'Dec-17'\n",
    "    ]\n",
    "two = [\n",
    "    'Jan-18', 'Feb-18', 'Mar-18', 'Apr-18', 'May-18', 'Jun-18',\n",
    "    'Jul-18', 'Aug-18', 'Sep-18', 'Oct-18', 'Nov-18', 'Dec-18',\n",
    "    'Jan-19', 'Feb-19', 'Mar-19', 'Apr-19', 'May-19', 'Jun-19',\n",
    "    'Jul-19', 'Aug-19', 'Sep-19', 'Oct-19', 'Nov-19', 'Dec-19']\n",
    "thr = [\n",
    "    'Jan-20', 'Feb-20', 'Mar-20', 'Apr-20', 'May-20', 'Jun-20',\n",
    "    'Jul-20', 'Aug-20', 'Sep-20', 'Oct-20', 'Nov-20', 'Dec-20',\n",
    "    'Jan-21', 'Feb-21', 'Mar-21', 'Apr-21', 'May-21', 'Jun-21',\n",
    "    'Jul-21', 'Aug-21', 'Sep-21', 'Oct-21', 'Nov-21', 'Dec-21']"
   ]
  },
  {
   "cell_type": "markdown",
   "metadata": {},
   "source": [
    "Now we can create the three split datasets."
   ]
  },
  {
   "cell_type": "code",
   "execution_count": 32,
   "metadata": {},
   "outputs": [],
   "source": [
    "crime_data_2016_17 = crime_data_2016_21[crime_data_2016_21['date'].isin(one)]\n",
    "crime_data_2016_17.to_csv('crime_data_2016_17.csv')\n",
    "crime_data_2016_17.to_parquet('crime_data_2016_17.parquet', compression='gzip')"
   ]
  },
  {
   "cell_type": "code",
   "execution_count": 33,
   "metadata": {},
   "outputs": [],
   "source": [
    "crime_data_2018_19 = crime_data_2016_21[crime_data_2016_21['date'].isin(one)]\n",
    "crime_data_2018_19.to_csv('crime_data_2018_19.csv')\n",
    "crime_data_2018_19.to_parquet('crime_data_2018_19.parquet', compression='gzip')"
   ]
  },
  {
   "cell_type": "code",
   "execution_count": null,
   "metadata": {},
   "outputs": [],
   "source": [
    "crime_data_2020_21 = crime_data_2016_21[crime_data_2016_21['date'].isin(one)]\n",
    "crime_data_2020_21.to_csv('crime_data_2020_21.csv')\n",
    "crime_data_2020_21.to_parquet('crime_data_2020_21.parquet', compression='gzip')"
   ]
  },
  {
   "cell_type": "code",
   "execution_count": null,
   "metadata": {},
   "outputs": [],
   "source": []
  },
  {
   "cell_type": "code",
   "execution_count": null,
   "metadata": {},
   "outputs": [],
   "source": []
  },
  {
   "cell_type": "code",
   "execution_count": null,
   "metadata": {},
   "outputs": [],
   "source": []
  },
  {
   "cell_type": "code",
   "execution_count": null,
   "metadata": {},
   "outputs": [],
   "source": []
  }
 ],
 "metadata": {
  "kernelspec": {
   "display_name": "Python 3.10.8 ('omdenaMUV')",
   "language": "python",
   "name": "python3"
  },
  "language_info": {
   "codemirror_mode": {
    "name": "ipython",
    "version": 3
   },
   "file_extension": ".py",
   "mimetype": "text/x-python",
   "name": "python",
   "nbconvert_exporter": "python",
   "pygments_lexer": "ipython3",
   "version": "3.10.8"
  },
  "orig_nbformat": 4,
  "vscode": {
   "interpreter": {
    "hash": "2ad9995ce2fe3e9ff32711e5efae8e94e766b237c44985184cf69069b8f0de50"
   }
  }
 },
 "nbformat": 4,
 "nbformat_minor": 2
}
