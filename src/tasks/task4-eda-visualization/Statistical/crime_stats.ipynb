{
 "cells": [
  {
   "cell_type": "code",
   "execution_count": 3,
   "metadata": {},
   "outputs": [],
   "source": [
    "# data manipulation\n",
    "# conda install -c conda-forge pandas\n",
    "import pandas as pd\n",
    "# conda install -c conda-forge numpy\n",
    "import numpy as np\n",
    "# conda install -c conda-forge openpyxl\n",
    "import openpyxl\n",
    "# conda install -c conda-forge missingno\n",
    "import missingno as msno\n",
    "import os\n",
    "\n",
    "from datetime import datetime\n",
    "import statistics\n",
    "\n",
    "# data visualisation\n",
    "# conda install -c conda-forge matplotlib\n",
    "import matplotlib as mpl\n",
    "import matplotlib.pyplot as plt\n",
    "from matplotlib import rcParams\n",
    "# conda install -c conda-forge seaborn\n",
    "import seaborn as sns\n",
    "\n",
    "# apply some cool styling\n",
    "rcParams['figure.figsize'] = (12,  6)\n",
    "sns.set(style='darkgrid', palette='pastel', font_scale=1)\n",
    "mpl.rcParams['agg.path.chunksize'] = 10000\n",
    "\n",
    "#  For showing all columns in Pandas\n",
    "pd.set_option('display.max_columns', None)\n",
    "\n",
    "# this ignores the depreciation warnings etc\n",
    "import warnings\n",
    "warnings.filterwarnings(\"ignore\")"
   ]
  },
  {
   "cell_type": "code",
   "execution_count": 4,
   "metadata": {},
   "outputs": [],
   "source": [
    "df = pd.read_parquet('../../../../src/data/crime_data_2016_21.parquet')"
   ]
  },
  {
   "cell_type": "code",
   "execution_count": 5,
   "metadata": {},
   "outputs": [
    {
     "data": {
      "text/html": [
       "<div>\n",
       "<style scoped>\n",
       "    .dataframe tbody tr th:only-of-type {\n",
       "        vertical-align: middle;\n",
       "    }\n",
       "\n",
       "    .dataframe tbody tr th {\n",
       "        vertical-align: top;\n",
       "    }\n",
       "\n",
       "    .dataframe thead th {\n",
       "        text-align: right;\n",
       "    }\n",
       "</style>\n",
       "<table border=\"1\" class=\"dataframe\">\n",
       "  <thead>\n",
       "    <tr style=\"text-align: right;\">\n",
       "      <th></th>\n",
       "      <th>station</th>\n",
       "      <th>province</th>\n",
       "      <th>district</th>\n",
       "      <th>crime_category</th>\n",
       "      <th>date</th>\n",
       "      <th>number_of_crimes</th>\n",
       "      <th>latitude</th>\n",
       "      <th>longitude</th>\n",
       "    </tr>\n",
       "  </thead>\n",
       "  <tbody>\n",
       "    <tr>\n",
       "      <th>0</th>\n",
       "      <td>east london</td>\n",
       "      <td>Eastern Cape</td>\n",
       "      <td>East London Cc</td>\n",
       "      <td>17 Community Reported Serious Crime</td>\n",
       "      <td>Jan-16</td>\n",
       "      <td>470</td>\n",
       "      <td>27.90288</td>\n",
       "      <td>-33.02058</td>\n",
       "    </tr>\n",
       "    <tr>\n",
       "      <th>1</th>\n",
       "      <td>east london</td>\n",
       "      <td>Eastern Cape</td>\n",
       "      <td>East London Cc</td>\n",
       "      <td>17 Community Reported Serious Crime</td>\n",
       "      <td>Feb-16</td>\n",
       "      <td>411</td>\n",
       "      <td>27.90288</td>\n",
       "      <td>-33.02058</td>\n",
       "    </tr>\n",
       "    <tr>\n",
       "      <th>2</th>\n",
       "      <td>east london</td>\n",
       "      <td>Eastern Cape</td>\n",
       "      <td>East London Cc</td>\n",
       "      <td>17 Community Reported Serious Crime</td>\n",
       "      <td>Mar-16</td>\n",
       "      <td>477</td>\n",
       "      <td>27.90288</td>\n",
       "      <td>-33.02058</td>\n",
       "    </tr>\n",
       "    <tr>\n",
       "      <th>3</th>\n",
       "      <td>east london</td>\n",
       "      <td>Eastern Cape</td>\n",
       "      <td>East London Cc</td>\n",
       "      <td>17 Community Reported Serious Crime</td>\n",
       "      <td>Jan-17</td>\n",
       "      <td>476</td>\n",
       "      <td>27.90288</td>\n",
       "      <td>-33.02058</td>\n",
       "    </tr>\n",
       "    <tr>\n",
       "      <th>4</th>\n",
       "      <td>east london</td>\n",
       "      <td>Eastern Cape</td>\n",
       "      <td>East London Cc</td>\n",
       "      <td>17 Community Reported Serious Crime</td>\n",
       "      <td>Feb-17</td>\n",
       "      <td>427</td>\n",
       "      <td>27.90288</td>\n",
       "      <td>-33.02058</td>\n",
       "    </tr>\n",
       "  </tbody>\n",
       "</table>\n",
       "</div>"
      ],
      "text/plain": [
       "       station      province        district  \\\n",
       "0  east london  Eastern Cape  East London Cc   \n",
       "1  east london  Eastern Cape  East London Cc   \n",
       "2  east london  Eastern Cape  East London Cc   \n",
       "3  east london  Eastern Cape  East London Cc   \n",
       "4  east london  Eastern Cape  East London Cc   \n",
       "\n",
       "                        crime_category    date  number_of_crimes  latitude  \\\n",
       "0  17 Community Reported Serious Crime  Jan-16               470  27.90288   \n",
       "1  17 Community Reported Serious Crime  Feb-16               411  27.90288   \n",
       "2  17 Community Reported Serious Crime  Mar-16               477  27.90288   \n",
       "3  17 Community Reported Serious Crime  Jan-17               476  27.90288   \n",
       "4  17 Community Reported Serious Crime  Feb-17               427  27.90288   \n",
       "\n",
       "   longitude  \n",
       "0  -33.02058  \n",
       "1  -33.02058  \n",
       "2  -33.02058  \n",
       "3  -33.02058  \n",
       "4  -33.02058  "
      ]
     },
     "execution_count": 5,
     "metadata": {},
     "output_type": "execute_result"
    }
   ],
   "source": [
    "df.head()"
   ]
  },
  {
   "cell_type": "code",
   "execution_count": 6,
   "metadata": {},
   "outputs": [
    {
     "data": {
      "text/plain": [
       "(3665376, 8)"
      ]
     },
     "execution_count": 6,
     "metadata": {},
     "output_type": "execute_result"
    }
   ],
   "source": [
    "df.shape"
   ]
  },
  {
   "cell_type": "code",
   "execution_count": 7,
   "metadata": {},
   "outputs": [
    {
     "name": "stdout",
     "output_type": "stream",
     "text": [
      "<class 'pandas.core.frame.DataFrame'>\n",
      "Int64Index: 3665376 entries, 0 to 3665375\n",
      "Data columns (total 8 columns):\n",
      " #   Column            Dtype  \n",
      "---  ------            -----  \n",
      " 0   station           object \n",
      " 1   province          object \n",
      " 2   district          object \n",
      " 3   crime_category    object \n",
      " 4   date              object \n",
      " 5   number_of_crimes  int32  \n",
      " 6   latitude          float64\n",
      " 7   longitude         float64\n",
      "dtypes: float64(2), int32(1), object(5)\n",
      "memory usage: 237.7+ MB\n"
     ]
    },
    {
     "data": {
      "text/plain": [
       "object     5\n",
       "float64    2\n",
       "int32      1\n",
       "dtype: int64"
      ]
     },
     "execution_count": 7,
     "metadata": {},
     "output_type": "execute_result"
    }
   ],
   "source": [
    "df.info()\n",
    "df.dtypes.value_counts()"
   ]
  },
  {
   "cell_type": "code",
   "execution_count": 8,
   "metadata": {},
   "outputs": [
    {
     "data": {
      "image/png": "[encoded data removed]",
      "text/plain": [
       "<Figure size 2500x1000 with 2 Axes>"
      ]
     },
     "metadata": {},
     "output_type": "display_data"
    }
   ],
   "source": [
    "msno.matrix(df);"
   ]
  },
  {
   "cell_type": "code",
   "execution_count": 9,
   "metadata": {},
   "outputs": [
    {
     "data": {
      "text/plain": [
       "station             0\n",
       "province            0\n",
       "district            0\n",
       "crime_category      0\n",
       "date                0\n",
       "number_of_crimes    0\n",
       "latitude            0\n",
       "longitude           0\n",
       "dtype: int64"
      ]
     },
     "execution_count": 9,
     "metadata": {},
     "output_type": "execute_result"
    }
   ],
   "source": [
    "df.isnull().sum().sort_values(ascending=False)"
   ]
  },
  {
   "cell_type": "code",
   "execution_count": 10,
   "metadata": {},
   "outputs": [
    {
     "name": "stdout",
     "output_type": "stream",
     "text": [
      "We have a total of: 0 missing values.\n"
     ]
    }
   ],
   "source": [
    "print(\n",
    "    'We have a total of:',\n",
    "    sum(df.isnull().sum().sort_values(ascending=False)),\n",
    "    'missing values.'\n",
    "    )"
   ]
  },
  {
   "cell_type": "code",
   "execution_count": 11,
   "metadata": {},
   "outputs": [
    {
     "name": "stdout",
     "output_type": "stream",
     "text": [
      "Number of duplicated rows: 0\n",
      "Rows and columns: (3665376, 8)\n"
     ]
    }
   ],
   "source": [
    "# Number of duplicated rows\n",
    "print(f'Number of duplicated rows:', df.duplicated().sum())\n",
    "print(f'Rows and columns:', df.shape)"
   ]
  },
  {
   "cell_type": "code",
   "execution_count": 12,
   "metadata": {},
   "outputs": [
    {
     "data": {
      "text/html": [
       "<div>\n",
       "<style scoped>\n",
       "    .dataframe tbody tr th:only-of-type {\n",
       "        vertical-align: middle;\n",
       "    }\n",
       "\n",
       "    .dataframe tbody tr th {\n",
       "        vertical-align: top;\n",
       "    }\n",
       "\n",
       "    .dataframe thead th {\n",
       "        text-align: right;\n",
       "    }\n",
       "</style>\n",
       "<table border=\"1\" class=\"dataframe\">\n",
       "  <thead>\n",
       "    <tr style=\"text-align: right;\">\n",
       "      <th></th>\n",
       "      <th>station</th>\n",
       "      <th>province</th>\n",
       "      <th>district</th>\n",
       "      <th>crime_category</th>\n",
       "      <th>date</th>\n",
       "      <th>number_of_crimes</th>\n",
       "      <th>latitude</th>\n",
       "      <th>longitude</th>\n",
       "    </tr>\n",
       "  </thead>\n",
       "  <tbody>\n",
       "    <tr>\n",
       "      <th>0</th>\n",
       "      <td>east london</td>\n",
       "      <td>Eastern Cape</td>\n",
       "      <td>East London Cc</td>\n",
       "      <td>17 Community Reported Serious Crime</td>\n",
       "      <td>Jan-16</td>\n",
       "      <td>470</td>\n",
       "      <td>27.90288</td>\n",
       "      <td>-33.02058</td>\n",
       "    </tr>\n",
       "    <tr>\n",
       "      <th>1</th>\n",
       "      <td>east london</td>\n",
       "      <td>Eastern Cape</td>\n",
       "      <td>East London Cc</td>\n",
       "      <td>17 Community Reported Serious Crime</td>\n",
       "      <td>Feb-16</td>\n",
       "      <td>411</td>\n",
       "      <td>27.90288</td>\n",
       "      <td>-33.02058</td>\n",
       "    </tr>\n",
       "    <tr>\n",
       "      <th>2</th>\n",
       "      <td>east london</td>\n",
       "      <td>Eastern Cape</td>\n",
       "      <td>East London Cc</td>\n",
       "      <td>17 Community Reported Serious Crime</td>\n",
       "      <td>Mar-16</td>\n",
       "      <td>477</td>\n",
       "      <td>27.90288</td>\n",
       "      <td>-33.02058</td>\n",
       "    </tr>\n",
       "    <tr>\n",
       "      <th>3</th>\n",
       "      <td>east london</td>\n",
       "      <td>Eastern Cape</td>\n",
       "      <td>East London Cc</td>\n",
       "      <td>17 Community Reported Serious Crime</td>\n",
       "      <td>Jan-17</td>\n",
       "      <td>476</td>\n",
       "      <td>27.90288</td>\n",
       "      <td>-33.02058</td>\n",
       "    </tr>\n",
       "    <tr>\n",
       "      <th>4</th>\n",
       "      <td>east london</td>\n",
       "      <td>Eastern Cape</td>\n",
       "      <td>East London Cc</td>\n",
       "      <td>17 Community Reported Serious Crime</td>\n",
       "      <td>Feb-17</td>\n",
       "      <td>427</td>\n",
       "      <td>27.90288</td>\n",
       "      <td>-33.02058</td>\n",
       "    </tr>\n",
       "  </tbody>\n",
       "</table>\n",
       "</div>"
      ],
      "text/plain": [
       "       station      province        district  \\\n",
       "0  east london  Eastern Cape  East London Cc   \n",
       "1  east london  Eastern Cape  East London Cc   \n",
       "2  east london  Eastern Cape  East London Cc   \n",
       "3  east london  Eastern Cape  East London Cc   \n",
       "4  east london  Eastern Cape  East London Cc   \n",
       "\n",
       "                        crime_category    date  number_of_crimes  latitude  \\\n",
       "0  17 Community Reported Serious Crime  Jan-16               470  27.90288   \n",
       "1  17 Community Reported Serious Crime  Feb-16               411  27.90288   \n",
       "2  17 Community Reported Serious Crime  Mar-16               477  27.90288   \n",
       "3  17 Community Reported Serious Crime  Jan-17               476  27.90288   \n",
       "4  17 Community Reported Serious Crime  Feb-17               427  27.90288   \n",
       "\n",
       "   longitude  \n",
       "0  -33.02058  \n",
       "1  -33.02058  \n",
       "2  -33.02058  \n",
       "3  -33.02058  \n",
       "4  -33.02058  "
      ]
     },
     "execution_count": 12,
     "metadata": {},
     "output_type": "execute_result"
    }
   ],
   "source": [
    "df.columns= df.columns.str.strip().str.lower()\n",
    "df.head()"
   ]
  },
  {
   "cell_type": "code",
   "execution_count": 14,
   "metadata": {},
   "outputs": [
    {
     "name": "stdout",
     "output_type": "stream",
     "text": [
      "station : 1157\n",
      "\n",
      "\n",
      "province : 9\n",
      "province : ['Eastern Cape' 'Free State' 'Gauteng' 'Kwazulu/Natal' 'Limpopo'\n",
      " 'Mpumalanga' 'North West' 'Northern Cape' 'Western Cape']\n",
      "\n",
      "\n",
      "district : 122\n",
      "district : ['East London Cc' 'Mdantsane Cc' 'Mount Road Cc' 'Mthatha Cc'\n",
      " \"King William'S T Cc\" 'Motherwell Cc' 'Port St Johns Cc' 'Uitenhage Cc'\n",
      " 'Graaff-Reinet Cc' 'Cradock Cc' 'Mount Ayliff Cc' 'Queenstown Cc'\n",
      " 'Grahamstown Cc' 'Butterworth Cc' 'Aliwal North Cc' 'Humansdorp Cc'\n",
      " 'Cofimvaba Cc' 'Alice Cc' 'Mount Fletcher Cc' 'Mqanduli Cc' 'Elliot Cc'\n",
      " 'Port Alfred Cc' 'Port St John Cc' 'Park Road Cc' 'Welkom Cc'\n",
      " 'Thabong Cc' 'Mangaung Cc' 'Selosesha Cc' 'Zamdela Cc'\n",
      " 'Phuthaditjhaba Cc' 'Bethlehem Cc' 'Kroonstad Cc' 'Ficksburg Cc'\n",
      " 'Smithfield Cc' 'Trompsburg Cc' 'Joburg West Cc' 'Joburg Central Cc'\n",
      " 'Tshwane Central Cc' 'West Rand Cc' 'Tshwane North Cc' 'Tshwane East Cc'\n",
      " 'Tshwane West Cc' 'Joburg North Cc' 'Ekurhuleni North Cc'\n",
      " 'Joburg East Cc' 'Ekurhuleni Centr Cc' 'Ekurhuleni East Cc'\n",
      " 'Soweto East Cc' 'Sedibeng Cc' 'Soweto West Cc' 'Ekurhuleni West Cc'\n",
      " 'Gauteng: Ports Of Entry: Air' 'Ethekwini Central Cc'\n",
      " 'Ethekwini Outer/N Cc' 'Ethekwini Inn&Out Cc' 'Umgungundlovo S Cc'\n",
      " 'King Cetshwayo Cc' 'Ilembe Cc' 'Ethekwini Inner/N Cc'\n",
      " 'Ethekwini Inner/S Cc' 'Ethekwini Outer/S Cc' 'Uthukela Cc' 'Amajuba Cc'\n",
      " 'Umgungundlovo N Cc' 'Ugu Cc' 'Zululand Cc' 'Harry Gwala Cc'\n",
      " 'Umkhanyakude Cc' 'Umzinyathi Cc' 'Kwazulu-Natal: Ports Of Entry:'\n",
      " 'Thohoyandou Cc' 'Mankweng Cc' 'Lebowakgomo Cc' 'Seshego Cc'\n",
      " 'Mahwelereng Cc' 'Tzaneen Cc' 'Giyani Cc' 'Groblersdal Cc' 'Makhado Cc'\n",
      " 'Burgersfort Cc' 'Bela Bela Cc' 'Lephalale Cc' 'Modimolle Cc'\n",
      " 'Witbank Cc' 'Pienaar Cc' 'Middelburg Cc' 'Kwamhlanga Cc' 'Ermelo Cc'\n",
      " 'Secunda Cc' 'Standerton Cc' 'Acornhoek Cc' 'Piet Retief Cc' 'Tonga Cc'\n",
      " 'Rustenburg Cc' 'Klerksdorp Cc' 'Mahikeng Cc' 'Brits Cc' 'Pudimoe Cc'\n",
      " 'Vryburg Cc' 'Zeerust Cc' 'Frances Baard Cc' 'Zf Mgcawu Cc'\n",
      " 'Jt Gaetsewe Cc' 'Pixley Ka Seme Cc' 'Namakwa Cc' 'Cape Town Cc'\n",
      " 'Mitchells Plain Cc' 'Worcester Cc' 'Blue Downs Cc' 'Tygerberg Cc'\n",
      " 'Winelands Cc' 'Nyanga Cc' 'Milnerton Cc' 'Khayelitsha Cc' 'Eden Cc'\n",
      " 'Wynberg Cc' 'Overberg Cc' 'Beaufort West Cc' 'Vredenburg Cc'\n",
      " 'Da Gamaskop Cc' 'Vredendal Cc' 'East Metropol']\n",
      "\n",
      "\n",
      "crime_category : 52\n",
      "crime_category : ['17 Community Reported Serious Crime' 'Abduction'\n",
      " 'All theft not mentioned elsewhere' 'Arson'\n",
      " 'Assault with the intent to inflict grievous bodily harm'\n",
      " 'Attempted murder' 'Attempted sexual offences' 'Bank Robbery'\n",
      " 'Burglary at non-residential premises' 'Burglary at residential premises'\n",
      " 'Carjacking' 'Commercial crime' 'Common assault' 'Common robbery'\n",
      " 'Contact Crime' 'Contact Sexual Offences' 'Contact-related crime'\n",
      " 'Crime detected as a result of police action' 'Crimen injuria'\n",
      " 'Culpable homicide' 'Driving under the influence of alcohol or drugs'\n",
      " 'Drug-Related Crime' 'Illegal possession of firearms and ammunition'\n",
      " 'Kidnapping' 'Malicious damage to property' 'Murder'\n",
      " 'Neglect and ill-treatment of children' 'Other serious crime'\n",
      " 'Property-related crime' 'Public violence' 'Rape'\n",
      " 'Robbery at non-residential premises' 'Robbery at residential premises'\n",
      " 'Robbery of cash in transit' 'Robbery with aggravating circumstances'\n",
      " 'Sexual Assault' 'Sexual offences'\n",
      " 'Sexual offences detected as a result of police action' 'Shoplifting'\n",
      " 'Stock-Theft' 'Theft of motor vehicle and motorcycle'\n",
      " 'Theft out of or from motor vehicle' 'TRIO Crime' 'Truck hijacking'\n",
      " 'Attempted Sexual Offences' 'Crimen Injuria' 'Drug-related crime'\n",
      " 'Sexual Offences' 'Stock-theft' 'Commercial Crime'\n",
      " 'Contact sexual offences' 'Drug-related Crime']\n",
      "\n",
      "\n",
      "date : 72\n",
      "date : ['Jan-16' 'Feb-16' 'Mar-16' 'Jan-17' 'Feb-17' 'Mar-17' 'Jan-18' 'Feb-18'\n",
      " 'Mar-18' 'Jan-19' 'Feb-19' 'Mar-19' 'Jan-20' 'Feb-20' 'Mar-20' 'Jan-21'\n",
      " 'Feb-21' 'Mar-21' 'Apr-16' 'May-16' 'Jun-16' 'Apr-17' 'May-17' 'Jun-17'\n",
      " 'Apr-18' 'May-18' 'Jun-18' 'Apr-19' 'May-19' 'Jun-19' 'Apr-20' 'May-20'\n",
      " 'Jun-20' 'Apr-21' 'May-21' 'Jun-21' 'Jul-16' 'Aug-16' 'Sep-16' 'Jul-17'\n",
      " 'Aug-17' 'Sep-17' 'Jul-18' 'Aug-18' 'Sep-18' 'Jul-19' 'Aug-19' 'Sep-19'\n",
      " 'Jul-20' 'Aug-20' 'Sep-20' 'Jul-21' 'Aug-21' 'Sep-21' 'Oct-16' 'Nov-16'\n",
      " 'Dec-16' 'Oct-17' 'Nov-17' 'Dec-17' 'Oct-18' 'Nov-18' 'Dec-18' 'Oct-19'\n",
      " 'Nov-19' 'Dec-19' 'Oct-20' 'Nov-20' 'Dec-20' 'Oct-21' 'Nov-21' 'Dec-21']\n",
      "\n",
      "\n",
      "number_of_crimes : 996\n",
      "\n",
      "\n",
      "latitude : 1156\n",
      "\n",
      "\n",
      "longitude : 1157\n",
      "\n",
      "\n"
     ]
    }
   ],
   "source": [
    "for column in df.columns:\n",
    "    print(column + ' : ' + str(len(df[column].unique())))\n",
    "    if(len(df[column].unique()) < 150):\n",
    "        print(column + ' : ' + str(df[column].unique()))\n",
    "    print('\\n')"
   ]
  },
  {
   "cell_type": "code",
   "execution_count": 17,
   "metadata": {},
   "outputs": [
    {
     "data": {
      "text/plain": [
       "122"
      ]
     },
     "execution_count": 17,
     "metadata": {},
     "output_type": "execute_result"
    }
   ],
   "source": [
    "len(df['district'].unique())"
   ]
  },
  {
   "cell_type": "code",
   "execution_count": null,
   "metadata": {},
   "outputs": [],
   "source": [
    "df = pd.read_csv('/kaggle/input/crime-rate/crime_rate_2006-2016.csv')\n",
    "df.head()\n",
    "\n",
    "# We will correct the name of all provinces in order to make the merge smoothly\n",
    "df[\"Province\"].replace('Kwazulu/Natal','KwaZulu-Natal',inplace=True)\n",
    "\n",
    "# we will calculate the total crimes from the year 2005 to 2016\n",
    "m=list(df.columns)[8:19]\n",
    "df['Total'] = df[m].sum(axis=1)\n",
    "df['Total']\n",
    "\n",
    "# We will calculate the Total crimes grouped by provinces\n",
    "df_province=df.groupby(\"Province\")[\"Total\"].sum().sort_values(ascending=False).reset_index()\n",
    "df_province\n",
    "\n",
    "province_map = gpd.read_file(\"/kaggle/input/south-africa-government-boundaries/zaf_adm_sadb_ocha_20201109_SHP/zaf_admbnda_adm1_sadb_ocha_20201109.dbf\")\n",
    "\n",
    "province_map.rename(columns = {'ADM1_EN':'Province'}, inplace = True)\n",
    "\n",
    "province_map1=province_map[[\"Province\",\"geometry\"]]\n",
    "\n",
    "df_merged = pd.merge (province_map1, df_province, on= ['Province'], how='inner')\n",
    "\n",
    "# We can visualize the total crimes per province along the map of South Africa\n",
    "df_merged.explore(column='Total')\n"
   ]
  },
  {
   "cell_type": "code",
   "execution_count": null,
   "metadata": {},
   "outputs": [],
   "source": []
  },
  {
   "cell_type": "code",
   "execution_count": null,
   "metadata": {},
   "outputs": [],
   "source": []
  },
  {
   "cell_type": "code",
   "execution_count": null,
   "metadata": {},
   "outputs": [],
   "source": []
  },
  {
   "cell_type": "code",
   "execution_count": null,
   "metadata": {},
   "outputs": [],
   "source": []
  },
  {
   "cell_type": "code",
   "execution_count": null,
   "metadata": {},
   "outputs": [],
   "source": []
  }
 ],
 "metadata": {
  "kernelspec": {
   "display_name": "Python 3.10.8 ('omdenaMUV')",
   "language": "python",
   "name": "python3"
  },
  "language_info": {
   "codemirror_mode": {
    "name": "ipython",
    "version": 3
   },
   "file_extension": ".py",
   "mimetype": "text/x-python",
   "name": "python",
   "nbconvert_exporter": "python",
   "pygments_lexer": "ipython3",
   "version": "3.10.8"
  },
  "orig_nbformat": 4,
  "vscode": {
   "interpreter": {
    "hash": "2ad9995ce2fe3e9ff32711e5efae8e94e766b237c44985184cf69069b8f0de50"
   }
  }
 },
 "nbformat": 4,
 "nbformat_minor": 2
}
